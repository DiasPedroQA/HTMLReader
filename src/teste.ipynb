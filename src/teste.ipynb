{
 "cells": [
  {
   "cell_type": "code",
   "execution_count": 21,
   "id": "067194ea",
   "metadata": {},
   "outputs": [],
   "source": [
    "# pylint: disable=C, R, E, W\n"
   ]
  },
  {
   "cell_type": "code",
   "execution_count": 22,
   "id": "69df3af8",
   "metadata": {},
   "outputs": [],
   "source": [
    "# controlador = ControladorSistema()\n",
    "\n",
    "# dados: dict[str, SistemaOperacional | Path] = (\n",
    "#     controlador.sistema_e_caminho_pasta_usuario\n",
    "# )\n",
    "# print(f\"Sistema operacional detectado: {dados['sistema']}\")\n",
    "# print(f\"Diretório do usuário: {dados['user_root']}\")\n"
   ]
  },
  {
   "cell_type": "code",
   "execution_count": 23,
   "id": "dc136444",
   "metadata": {},
   "outputs": [],
   "source": [
    "# print(\"\\n📂 Itens do diretório do usuário:\\n\")\n",
    "# itens_usuario: list[CaminhoBase] = controlador.listar_itens_da_pasta_usuario_logado()\n",
    "# for item in itens_usuario:\n",
    "#     print(f\" - [{item.retornar_o_tipo.value}] => {item.caminho_absoluto}\")\n",
    "# print(f\"\\nTotal: {len(itens_usuario)} itens\\n\")\n"
   ]
  },
  {
   "cell_type": "code",
   "execution_count": 24,
   "id": "d0e6d9b1",
   "metadata": {},
   "outputs": [],
   "source": [
    "# pasta_user_home: Path = Path(\"~/\").expanduser()\n",
    "# subpastas_home: list[Pasta] = controlador.listar_subpastas_de_uma_pasta(\n",
    "#     caminho_da_pasta=pasta_user_home\n",
    "# )\n",
    "# print(f\"\\n📁 Subpastas em: {pasta_user_home}\\n\")\n",
    "# for item in subpastas_home:\n",
    "#     print(f\" - [{item.retornar_o_tipo.value}] => {item.caminho_absoluto}\")\n",
    "# print(f\"\\nTotal: {len(subpastas_home)} subpastas\\n\")\n"
   ]
  },
  {
   "cell_type": "code",
   "execution_count": 25,
   "id": "9ef2ae49",
   "metadata": {},
   "outputs": [],
   "source": [
    "# pasta_downloads: Path = Path(\"/home/pedro-pm-dias/Downloads/Firefox\")\n",
    "# subpastas: list[Pasta] = controlador.listar_subpastas_de_uma_pasta(\n",
    "#     caminho_da_pasta=pasta_downloads\n",
    "# )\n",
    "# print(f\"\\n📁 Subpastas em: {pasta_downloads}\\n\")\n",
    "# for item in subpastas:\n",
    "#     print(f\" - [{item.retornar_o_tipo.value}] => {item.caminho_absoluto}\")\n",
    "# print(f\"\\nTotal: {len(subpastas)} subpasta(s)\\n\")\n"
   ]
  },
  {
   "cell_type": "code",
   "execution_count": 26,
   "id": "ea803dba",
   "metadata": {},
   "outputs": [],
   "source": [
    "# pasta_htmls: Path = Path(\"/home/pedro-pm-dias/Downloads/Firefox\")\n",
    "# arquivos_htmls: list[Arquivo] = controlador.listar_subarquivos_de_uma_pasta(\n",
    "#     caminho_da_pasta=pasta_htmls, extensao_buscada=\".html\"\n",
    "# )\n",
    "# print(f\"\\n📝 Arquivos .html em: {pasta_htmls}\")\n",
    "# for arquivo in arquivos_htmls:\n",
    "#     print(f\"\\n - [{arquivo.retornar_o_tipo.value}] => {item.caminho_absoluto}\")\n",
    "#     print(f\"Extensão do arquivo: {arquivo.extensao_do_arquivo()}\")\n",
    "#     print(f\"Tamanho do arquivo: {arquivo.tamanho_legivel}\")\n",
    "# print(f\"\\nTotal: {len(arquivos_htmls)} arquivo(s) HTML\\n\")\n"
   ]
  },
  {
   "cell_type": "code",
   "execution_count": 27,
   "id": "cbad4a77",
   "metadata": {},
   "outputs": [],
   "source": [
    "# Instanciar o controlador\n",
    "from pathlib import Path\n",
    "from core.controllers.arquivos_controller import ArquivosController\n",
    "from core.controllers.pastas_controller import PastasController\n",
    "from core.models.model_arquivo import Arquivo\n"
   ]
  },
  {
   "cell_type": "code",
   "execution_count": 28,
   "id": "1f990083",
   "metadata": {},
   "outputs": [
    {
     "name": "stdout",
     "output_type": "stream",
     "text": [
      "Pasta criada: False\n",
      "\n",
      "Conteúdo direto da pasta '/home/pedro-pm-dias/Downloads/Firefox':\n",
      " - bookmarks.json\n",
      " - favoritos_23_12_2024_raspado.txt\n",
      " - notas.txt\n",
      " - bookmarks2.html\n",
      " - favoritos_23_12_2024.txt\n",
      " - bookmarks.html\n",
      " - bookmarks.txt\n",
      " - Histórico.txt\n",
      " - exemplo.txt\n",
      " - Nova Pasta\n",
      " - copy-favoritos_23_12_2024.txt\n",
      "\n",
      "Ocultos encontrados:\n",
      "\n",
      "Itens encontrados recursivamente:\n",
      " - /home/pedro-pm-dias/Downloads/Firefox/bookmarks.json\n",
      " - /home/pedro-pm-dias/Downloads/Firefox/favoritos_23_12_2024_raspado.txt\n",
      " - /home/pedro-pm-dias/Downloads/Firefox/notas.txt\n",
      " - /home/pedro-pm-dias/Downloads/Firefox/bookmarks2.html\n",
      " - /home/pedro-pm-dias/Downloads/Firefox/favoritos_23_12_2024.txt\n",
      " - /home/pedro-pm-dias/Downloads/Firefox/bookmarks.html\n",
      " - /home/pedro-pm-dias/Downloads/Firefox/bookmarks.txt\n",
      " - /home/pedro-pm-dias/Downloads/Firefox/Histórico.txt\n",
      " - /home/pedro-pm-dias/Downloads/Firefox/exemplo.txt\n",
      " - /home/pedro-pm-dias/Downloads/Firefox/Nova Pasta\n",
      " - /home/pedro-pm-dias/Downloads/Firefox/copy-favoritos_23_12_2024.txt\n",
      " - /home/pedro-pm-dias/Downloads/Firefox/Nova Pasta/Pedro Dias – Engenheiro de Qualidade de Software · Resume.io.txt\n"
     ]
    }
   ],
   "source": [
    "controller_pasta = PastasController()\n",
    "\n",
    "# Caminho da pasta que vamos manipular\n",
    "caminho_da_pasta: Path = Path.home() / \"Downloads\" / \"Firefox\"\n",
    "\n",
    "# Criar pasta se não existir\n",
    "foi_criada: bool = controller_pasta.criar_se_nao_existir(caminho_novo=caminho_da_pasta)\n",
    "print(f\"Pasta criada: {foi_criada}\")\n",
    "\n",
    "# Ler o conteúdo direto da pasta\n",
    "conteudo: list[str] = controller_pasta.ler_conteudo_da_pasta(caminho=caminho_da_pasta)\n",
    "print(f\"\\nConteúdo direto da pasta '{caminho_da_pasta}':\")\n",
    "for nome in conteudo:\n",
    "    print(f\" - {nome}\")\n",
    "\n",
    "# Listar arquivos e pastas ocultos (iniciados com '.')\n",
    "ocultos: list[str] = controller_pasta.listar_ocultos(caminho=caminho_da_pasta)\n",
    "print(\"\\nOcultos encontrados:\")\n",
    "for nome in ocultos:\n",
    "    print(f\" - {nome}\")\n",
    "\n",
    "# Listar todos os arquivos e pastas da pasta (recursivamente)\n",
    "todos_os_itens: list[Path] = controller_pasta.listar_recursivamente(\n",
    "    caminho=caminho_da_pasta\n",
    ")\n",
    "print(\"\\nItens encontrados recursivamente:\")\n",
    "for item in todos_os_itens:\n",
    "    print(f\" - {item}\")\n"
   ]
  },
  {
   "cell_type": "code",
   "execution_count": 29,
   "id": "1e04169f",
   "metadata": {},
   "outputs": [
    {
     "name": "stdout",
     "output_type": "stream",
     "text": [
      "\n",
      "📄 Informações do arquivo criado:\n",
      " - nome: notas.txt\n",
      " - nome_sem_extensao: notas\n",
      " - extensao: .txt\n",
      " - extensao_legivel: Texto\n",
      " - tamanho_legivel: 32.00 B\n",
      " - eh_oculto: Não\n",
      " - data_modificacao: 18/06/2025 22:34:45\n",
      " - conteudo: # Minhas notas\n",
      "- Item 1\n",
      "- Item 2\n"
     ]
    }
   ],
   "source": [
    "controller_arquivo = ArquivosController()\n",
    "\n",
    "# Caminho onde o arquivo será criado\n",
    "caminho_arquivo: Path = Path.home() / \"Downloads\" / \"Firefox/notas.txt\"\n",
    "\n",
    "# Criar o arquivo com conteúdo\n",
    "arquivo_obj: Arquivo = controller_arquivo.criar_arquivo(\n",
    "    caminho=caminho_arquivo, conteudo=\"Olá, mundo!\"\n",
    ")\n",
    "\n",
    "# Ler o arquivo\n",
    "info_arquivo: dict[str, str | None] = controller_arquivo.ler_arquivo(\n",
    "    caminho=caminho_arquivo\n",
    ")\n",
    "\n",
    "print(\"\\n📄 Informações do arquivo criado:\")\n",
    "for chave, valor in info_arquivo.items():\n",
    "    print(f\" - {chave}: {valor}\")\n"
   ]
  }
 ],
 "metadata": {
  "kernelspec": {
   "display_name": ".venv (3.12.3)",
   "language": "python",
   "name": "python3"
  },
  "language_info": {
   "codemirror_mode": {
    "name": "ipython",
    "version": 3
   },
   "file_extension": ".py",
   "mimetype": "text/x-python",
   "name": "python",
   "nbconvert_exporter": "python",
   "pygments_lexer": "ipython3",
   "version": "3.12.3"
  }
 },
 "nbformat": 4,
 "nbformat_minor": 5
}
